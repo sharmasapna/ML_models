{
 "cells": [
  {
   "cell_type": "code",
   "execution_count": 81,
   "metadata": {},
   "outputs": [],
   "source": [
    "# import the libraries\n",
    "import pandas as pd\n",
    "import numpy as np\n",
    "import seaborn as sns\n",
    "from sklearn.ensemble import IsolationForest\n",
    "from sklearn.preprocessing import LabelEncoder\n"
   ]
  },
  {
   "cell_type": "code",
   "execution_count": 58,
   "metadata": {},
   "outputs": [],
   "source": [
    "#data = pd.read_csv(\"marks.csv\")\n",
    "data = pd.read_csv('synth_composite.csv')\n"
   ]
  },
  {
   "cell_type": "code",
   "execution_count": 59,
   "metadata": {},
   "outputs": [
    {
     "data": {
      "text/plain": [
       "6362620"
      ]
     },
     "execution_count": 59,
     "metadata": {},
     "output_type": "execute_result"
    }
   ],
   "source": [
    "len(data)"
   ]
  },
  {
   "cell_type": "code",
   "execution_count": 124,
   "metadata": {},
   "outputs": [
    {
     "data": {
      "text/html": [
       "<div>\n",
       "<style scoped>\n",
       "    .dataframe tbody tr th:only-of-type {\n",
       "        vertical-align: middle;\n",
       "    }\n",
       "\n",
       "    .dataframe tbody tr th {\n",
       "        vertical-align: top;\n",
       "    }\n",
       "\n",
       "    .dataframe thead th {\n",
       "        text-align: right;\n",
       "    }\n",
       "</style>\n",
       "<table border=\"1\" class=\"dataframe\">\n",
       "  <thead>\n",
       "    <tr style=\"text-align: right;\">\n",
       "      <th></th>\n",
       "      <th>step</th>\n",
       "      <th>type</th>\n",
       "      <th>amount</th>\n",
       "      <th>nameOrig</th>\n",
       "      <th>oldbalanceOrg</th>\n",
       "      <th>newbalanceOrig</th>\n",
       "      <th>nameDest</th>\n",
       "      <th>oldbalanceDest</th>\n",
       "      <th>newbalanceDest</th>\n",
       "      <th>isFraud</th>\n",
       "      <th>isFlaggedFraud</th>\n",
       "    </tr>\n",
       "  </thead>\n",
       "  <tbody>\n",
       "    <tr>\n",
       "      <th>3957525</th>\n",
       "      <td>540</td>\n",
       "      <td>CASH_OUT</td>\n",
       "      <td>240721.258262</td>\n",
       "      <td>160_6110462_0</td>\n",
       "      <td>3.394469e-02</td>\n",
       "      <td>0.000000e+00</td>\n",
       "      <td>160_13965_0</td>\n",
       "      <td>1.158615e+07</td>\n",
       "      <td>1.182709e+07</td>\n",
       "      <td>0</td>\n",
       "      <td>0</td>\n",
       "    </tr>\n",
       "    <tr>\n",
       "      <th>105696</th>\n",
       "      <td>401</td>\n",
       "      <td>CASH_IN</td>\n",
       "      <td>301971.710563</td>\n",
       "      <td>160_5806012_0</td>\n",
       "      <td>4.424726e+06</td>\n",
       "      <td>4.122755e+06</td>\n",
       "      <td>160_259992_0</td>\n",
       "      <td>4.743223e+06</td>\n",
       "      <td>4.441111e+06</td>\n",
       "      <td>0</td>\n",
       "      <td>0</td>\n",
       "    </tr>\n",
       "    <tr>\n",
       "      <th>1374470</th>\n",
       "      <td>358</td>\n",
       "      <td>PAYMENT</td>\n",
       "      <td>27709.911111</td>\n",
       "      <td>160_5163286_0</td>\n",
       "      <td>1.535749e+04</td>\n",
       "      <td>0.000000e+00</td>\n",
       "      <td>160_2205806_0</td>\n",
       "      <td>9.693117e+00</td>\n",
       "      <td>1.659299e+01</td>\n",
       "      <td>0</td>\n",
       "      <td>0</td>\n",
       "    </tr>\n",
       "  </tbody>\n",
       "</table>\n",
       "</div>"
      ],
      "text/plain": [
       "         step      type         amount       nameOrig  oldbalanceOrg  \\\n",
       "3957525   540  CASH_OUT  240721.258262  160_6110462_0   3.394469e-02   \n",
       "105696    401   CASH_IN  301971.710563  160_5806012_0   4.424726e+06   \n",
       "1374470   358   PAYMENT   27709.911111  160_5163286_0   1.535749e+04   \n",
       "\n",
       "         newbalanceOrig       nameDest  oldbalanceDest  newbalanceDest  \\\n",
       "3957525    0.000000e+00    160_13965_0    1.158615e+07    1.182709e+07   \n",
       "105696     4.122755e+06   160_259992_0    4.743223e+06    4.441111e+06   \n",
       "1374470    0.000000e+00  160_2205806_0    9.693117e+00    1.659299e+01   \n",
       "\n",
       "         isFraud  isFlaggedFraud  \n",
       "3957525        0               0  \n",
       "105696         0               0  \n",
       "1374470        0               0  "
      ]
     },
     "execution_count": 124,
     "metadata": {},
     "output_type": "execute_result"
    }
   ],
   "source": [
    "df = data.sample(frac=0.10)\n",
    "df.head(3)"
   ]
  },
  {
   "cell_type": "code",
   "execution_count": 125,
   "metadata": {},
   "outputs": [
    {
     "name": "stdout",
     "output_type": "stream",
     "text": [
      "<class 'pandas.core.frame.DataFrame'>\n",
      "Int64Index: 636262 entries, 3957525 to 6329837\n",
      "Data columns (total 11 columns):\n",
      " #   Column          Non-Null Count   Dtype  \n",
      "---  ------          --------------   -----  \n",
      " 0   step            636262 non-null  int64  \n",
      " 1   type            636262 non-null  object \n",
      " 2   amount          636262 non-null  float64\n",
      " 3   nameOrig        636262 non-null  object \n",
      " 4   oldbalanceOrg   636262 non-null  float64\n",
      " 5   newbalanceOrig  636262 non-null  float64\n",
      " 6   nameDest        636262 non-null  object \n",
      " 7   oldbalanceDest  636262 non-null  float64\n",
      " 8   newbalanceDest  636262 non-null  float64\n",
      " 9   isFraud         636262 non-null  int64  \n",
      " 10  isFlaggedFraud  636262 non-null  int64  \n",
      "dtypes: float64(5), int64(3), object(3)\n",
      "memory usage: 58.3+ MB\n"
     ]
    }
   ],
   "source": [
    "df.info()"
   ]
  },
  {
   "cell_type": "markdown",
   "metadata": {},
   "source": [
    "We have some fetures of object type and no missing values"
   ]
  },
  {
   "cell_type": "code",
   "execution_count": 126,
   "metadata": {},
   "outputs": [
    {
     "data": {
      "text/plain": [
       "['type', 'nameOrig', 'nameDest']"
      ]
     },
     "execution_count": 126,
     "metadata": {},
     "output_type": "execute_result"
    }
   ],
   "source": [
    "cateorical_features = [features for features in df.columns if df[features].dtypes == 'O']\n",
    "cateorical_features"
   ]
  },
  {
   "cell_type": "code",
   "execution_count": 127,
   "metadata": {},
   "outputs": [
    {
     "data": {
      "text/html": [
       "<div>\n",
       "<style scoped>\n",
       "    .dataframe tbody tr th:only-of-type {\n",
       "        vertical-align: middle;\n",
       "    }\n",
       "\n",
       "    .dataframe tbody tr th {\n",
       "        vertical-align: top;\n",
       "    }\n",
       "\n",
       "    .dataframe thead th {\n",
       "        text-align: right;\n",
       "    }\n",
       "</style>\n",
       "<table border=\"1\" class=\"dataframe\">\n",
       "  <thead>\n",
       "    <tr style=\"text-align: right;\">\n",
       "      <th></th>\n",
       "      <th>step</th>\n",
       "      <th>type</th>\n",
       "      <th>amount</th>\n",
       "      <th>nameOrig</th>\n",
       "      <th>oldbalanceOrg</th>\n",
       "      <th>newbalanceOrig</th>\n",
       "      <th>nameDest</th>\n",
       "      <th>oldbalanceDest</th>\n",
       "      <th>newbalanceDest</th>\n",
       "      <th>isFraud</th>\n",
       "      <th>isFlaggedFraud</th>\n",
       "    </tr>\n",
       "  </thead>\n",
       "  <tbody>\n",
       "    <tr>\n",
       "      <th>3957525</th>\n",
       "      <td>540</td>\n",
       "      <td>1</td>\n",
       "      <td>240721.258262</td>\n",
       "      <td>568623</td>\n",
       "      <td>3.394469e-02</td>\n",
       "      <td>0.000000e+00</td>\n",
       "      <td>78393</td>\n",
       "      <td>1.158615e+07</td>\n",
       "      <td>1.182709e+07</td>\n",
       "      <td>0</td>\n",
       "      <td>0</td>\n",
       "    </tr>\n",
       "    <tr>\n",
       "      <th>105696</th>\n",
       "      <td>401</td>\n",
       "      <td>0</td>\n",
       "      <td>301971.710563</td>\n",
       "      <td>534804</td>\n",
       "      <td>4.424726e+06</td>\n",
       "      <td>4.122755e+06</td>\n",
       "      <td>266072</td>\n",
       "      <td>4.743223e+06</td>\n",
       "      <td>4.441111e+06</td>\n",
       "      <td>0</td>\n",
       "      <td>0</td>\n",
       "    </tr>\n",
       "    <tr>\n",
       "      <th>1374470</th>\n",
       "      <td>358</td>\n",
       "      <td>3</td>\n",
       "      <td>27709.911111</td>\n",
       "      <td>463708</td>\n",
       "      <td>1.535749e+04</td>\n",
       "      <td>0.000000e+00</td>\n",
       "      <td>213630</td>\n",
       "      <td>9.693117e+00</td>\n",
       "      <td>1.659299e+01</td>\n",
       "      <td>0</td>\n",
       "      <td>0</td>\n",
       "    </tr>\n",
       "  </tbody>\n",
       "</table>\n",
       "</div>"
      ],
      "text/plain": [
       "         step  type         amount  nameOrig  oldbalanceOrg  newbalanceOrig  \\\n",
       "3957525   540     1  240721.258262    568623   3.394469e-02    0.000000e+00   \n",
       "105696    401     0  301971.710563    534804   4.424726e+06    4.122755e+06   \n",
       "1374470   358     3   27709.911111    463708   1.535749e+04    0.000000e+00   \n",
       "\n",
       "         nameDest  oldbalanceDest  newbalanceDest  isFraud  isFlaggedFraud  \n",
       "3957525     78393    1.158615e+07    1.182709e+07        0               0  \n",
       "105696     266072    4.743223e+06    4.441111e+06        0               0  \n",
       "1374470    213630    9.693117e+00    1.659299e+01        0               0  "
      ]
     },
     "execution_count": 127,
     "metadata": {},
     "output_type": "execute_result"
    }
   ],
   "source": [
    "# we use label encoder to convert the categorical variables to numerical values\n",
    "le = LabelEncoder()\n",
    "for feature in cateorical_features:\n",
    "    df[feature] = le.fit_transform(df[feature])\n",
    "df.head(3)"
   ]
  },
  {
   "cell_type": "code",
   "execution_count": 128,
   "metadata": {},
   "outputs": [
    {
     "name": "stdout",
     "output_type": "stream",
     "text": [
      "<class 'pandas.core.frame.DataFrame'>\n",
      "Int64Index: 636262 entries, 3957525 to 6329837\n",
      "Data columns (total 11 columns):\n",
      " #   Column          Non-Null Count   Dtype  \n",
      "---  ------          --------------   -----  \n",
      " 0   step            636262 non-null  int64  \n",
      " 1   type            636262 non-null  int64  \n",
      " 2   amount          636262 non-null  float64\n",
      " 3   nameOrig        636262 non-null  int64  \n",
      " 4   oldbalanceOrg   636262 non-null  float64\n",
      " 5   newbalanceOrig  636262 non-null  float64\n",
      " 6   nameDest        636262 non-null  int64  \n",
      " 7   oldbalanceDest  636262 non-null  float64\n",
      " 8   newbalanceDest  636262 non-null  float64\n",
      " 9   isFraud         636262 non-null  int64  \n",
      " 10  isFlaggedFraud  636262 non-null  int64  \n",
      "dtypes: float64(5), int64(6)\n",
      "memory usage: 58.3 MB\n"
     ]
    }
   ],
   "source": [
    "df.info()"
   ]
  },
  {
   "cell_type": "code",
   "execution_count": 142,
   "metadata": {},
   "outputs": [
    {
     "data": {
      "text/plain": [
       "IsolationForest(contamination=0.001,\n",
       "                random_state=RandomState(MT19937) at 0x7FEF0AF8ED40)"
      ]
     },
     "execution_count": 142,
     "metadata": {},
     "output_type": "execute_result"
    }
   ],
   "source": [
    "# defining and fitting the model\n",
    "random_state = np.random.RandomState(42)\n",
    "model = IsolationForest(n_estimators = 100,\n",
    "                       max_samples = 'auto',\n",
    "                       contamination = 0.001,\n",
    "                       random_state = random_state)\n",
    "model.fit(df)"
   ]
  },
  {
   "cell_type": "code",
   "execution_count": 143,
   "metadata": {},
   "outputs": [
    {
     "name": "stdout",
     "output_type": "stream",
     "text": [
      "<bound method BaseEstimator.get_params of IsolationForest(contamination=0.001,\n",
      "                random_state=RandomState(MT19937) at 0x7FEF0AF8ED40)>\n"
     ]
    }
   ],
   "source": [
    "print (model.get_params)"
   ]
  },
  {
   "cell_type": "code",
   "execution_count": 144,
   "metadata": {},
   "outputs": [],
   "source": [
    "# getting the results\n",
    "\n",
    "df['anomaly_score'] = model.predict(df)"
   ]
  },
  {
   "cell_type": "code",
   "execution_count": 145,
   "metadata": {},
   "outputs": [
    {
     "data": {
      "text/plain": [
       "637"
      ]
     },
     "execution_count": 145,
     "metadata": {},
     "output_type": "execute_result"
    }
   ],
   "source": [
    "list(df.anomaly_score).count(-1)"
   ]
  },
  {
   "cell_type": "code",
   "execution_count": 146,
   "metadata": {},
   "outputs": [],
   "source": [
    "df.anomaly_score = df.anomaly_score.apply(lambda x: 1 if x == -1 else 0)\n",
    "#comb[\"Large_Family\"] = comb.Family.map(lambda x: 1 if x >4  else 0)\n"
   ]
  },
  {
   "cell_type": "code",
   "execution_count": 147,
   "metadata": {},
   "outputs": [
    {
     "data": {
      "text/plain": [
       "array([0, 1])"
      ]
     },
     "execution_count": 147,
     "metadata": {},
     "output_type": "execute_result"
    }
   ],
   "source": [
    "df.anomaly_score.unique()"
   ]
  },
  {
   "cell_type": "code",
   "execution_count": 149,
   "metadata": {},
   "outputs": [
    {
     "data": {
      "text/plain": [
       "637"
      ]
     },
     "execution_count": 149,
     "metadata": {},
     "output_type": "execute_result"
    }
   ],
   "source": [
    " list(df.anomaly_score).count(1)"
   ]
  },
  {
   "cell_type": "code",
   "execution_count": 152,
   "metadata": {},
   "outputs": [
    {
     "data": {
      "text/plain": [
       "step              6\n",
       "type              6\n",
       "amount            6\n",
       "nameOrig          6\n",
       "oldbalanceOrg     6\n",
       "newbalanceOrig    6\n",
       "nameDest          6\n",
       "oldbalanceDest    6\n",
       "newbalanceDest    6\n",
       "isFraud           6\n",
       "isFlaggedFraud    6\n",
       "anomaly_score     6\n",
       "dtype: int64"
      ]
     },
     "execution_count": 152,
     "metadata": {},
     "output_type": "execute_result"
    }
   ],
   "source": [
    "df[(df.anomaly_score==1) & (df.isFraud==1)].count()"
   ]
  },
  {
   "cell_type": "code",
   "execution_count": 141,
   "metadata": {},
   "outputs": [
    {
     "name": "stdout",
     "output_type": "stream",
     "text": [
      "<class 'pandas.core.frame.DataFrame'>\n",
      "Int64Index: 636262 entries, 3957525 to 6329837\n",
      "Data columns (total 12 columns):\n",
      " #   Column          Non-Null Count   Dtype  \n",
      "---  ------          --------------   -----  \n",
      " 0   step            636262 non-null  int64  \n",
      " 1   type            636262 non-null  int64  \n",
      " 2   amount          636262 non-null  float64\n",
      " 3   nameOrig        636262 non-null  int64  \n",
      " 4   oldbalanceOrg   636262 non-null  float64\n",
      " 5   newbalanceOrig  636262 non-null  float64\n",
      " 6   nameDest        636262 non-null  int64  \n",
      " 7   oldbalanceDest  636262 non-null  float64\n",
      " 8   newbalanceDest  636262 non-null  float64\n",
      " 9   isFraud         636262 non-null  int64  \n",
      " 10  isFlaggedFraud  636262 non-null  int64  \n",
      " 11  anomaly_score   636262 non-null  int64  \n",
      "dtypes: float64(5), int64(7)\n",
      "memory usage: 63.1 MB\n"
     ]
    }
   ],
   "source": [
    "df.info()"
   ]
  },
  {
   "cell_type": "code",
   "execution_count": null,
   "metadata": {},
   "outputs": [],
   "source": []
  }
 ],
 "metadata": {
  "kernelspec": {
   "display_name": "Python 3",
   "language": "python",
   "name": "python3"
  },
  "language_info": {
   "codemirror_mode": {
    "name": "ipython",
    "version": 3
   },
   "file_extension": ".py",
   "mimetype": "text/x-python",
   "name": "python",
   "nbconvert_exporter": "python",
   "pygments_lexer": "ipython3",
   "version": "3.8.5"
  }
 },
 "nbformat": 4,
 "nbformat_minor": 4
}
